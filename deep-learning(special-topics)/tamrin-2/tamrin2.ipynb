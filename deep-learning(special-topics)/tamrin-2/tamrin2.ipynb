{
 "cells": [
  {
   "cell_type": "markdown",
   "metadata": {},
   "source": [
    "#### import libary"
   ]
  },
  {
   "cell_type": "code",
   "execution_count": 1,
   "metadata": {},
   "outputs": [],
   "source": [
    "import numpy as np"
   ]
  },
  {
   "cell_type": "markdown",
   "metadata": {},
   "source": [
    "#### Generate a vector of random numbers with seed 99121045"
   ]
  },
  {
   "cell_type": "code",
   "execution_count": 2,
   "metadata": {},
   "outputs": [],
   "source": [
    "\n",
    "np.random.seed(99121045)\n",
    "random_vector = np.random.randint(0, 21, size=10000)"
   ]
  },
  {
   "cell_type": "markdown",
   "metadata": {},
   "source": [
    "#### Calculate the frequency of each number"
   ]
  },
  {
   "cell_type": "code",
   "execution_count": 3,
   "metadata": {},
   "outputs": [],
   "source": [
    "\n",
    "counts = np.bincount(random_vector)"
   ]
  },
  {
   "cell_type": "markdown",
   "metadata": {},
   "source": [
    "#### Print the frequency of each number"
   ]
  },
  {
   "cell_type": "code",
   "execution_count": 4,
   "metadata": {},
   "outputs": [
    {
     "name": "stdout",
     "output_type": "stream",
     "text": [
      "Number 0: Frequency = 469\n",
      "Number 1: Frequency = 500\n",
      "Number 2: Frequency = 474\n",
      "Number 3: Frequency = 485\n",
      "Number 4: Frequency = 493\n",
      "Number 5: Frequency = 488\n",
      "Number 6: Frequency = 464\n",
      "Number 7: Frequency = 502\n",
      "Number 8: Frequency = 465\n",
      "Number 9: Frequency = 512\n",
      "Number 10: Frequency = 472\n",
      "Number 11: Frequency = 451\n",
      "Number 12: Frequency = 460\n",
      "Number 13: Frequency = 434\n",
      "Number 14: Frequency = 465\n",
      "Number 15: Frequency = 483\n",
      "Number 16: Frequency = 481\n",
      "Number 17: Frequency = 480\n",
      "Number 18: Frequency = 490\n",
      "Number 19: Frequency = 454\n",
      "Number 20: Frequency = 478\n"
     ]
    }
   ],
   "source": [
    "\n",
    "for i, count in enumerate(counts):\n",
    "    print(f\"Number {i}: Frequency = {count}\")\n"
   ]
  }
 ],
 "metadata": {
  "kernelspec": {
   "display_name": "university",
   "language": "python",
   "name": "python3"
  },
  "language_info": {
   "codemirror_mode": {
    "name": "ipython",
    "version": 3
   },
   "file_extension": ".py",
   "mimetype": "text/x-python",
   "name": "python",
   "nbconvert_exporter": "python",
   "pygments_lexer": "ipython3",
   "version": "3.11.9"
  }
 },
 "nbformat": 4,
 "nbformat_minor": 2
}
