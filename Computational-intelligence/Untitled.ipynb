{
 "cells": [
  {
   "cell_type": "markdown",
   "id": "869f484d-7f3f-4603-b184-ad192ae568f6",
   "metadata": {},
   "source": [
    "# cifar-10: Computational intelligence"
   ]
  },
  {
   "cell_type": "markdown",
   "id": "e28f7a25-a6f0-49ec-976c-1b62a44b01e4",
   "metadata": {},
   "source": [
    "The CIFAR-10 dataset consists of 60000 32x32 colour images in 10 classes, with 6000 images per class. There are 50000 training images and 10000 test images.\r\n",
    "\r\n",
    "The dataset is divided into five training batches and one test batch, each with 10000 images. The test batch contains exactly 1000 randomly-selected images from each class. The training batches contain the remaining images in random order, but some training batches may contain more images from one class than another. Between them, the training batches contain exactly 5000 images from each class."
   ]
  },
  {
   "cell_type": "markdown",
   "id": "f8a8fd32-1cdf-412e-b17f-3b888fbcb1d4",
   "metadata": {},
   "source": [
    "### 1.1 Importing libraries"
   ]
  },
  {
   "cell_type": "code",
   "execution_count": 22,
   "id": "588b593a-1e4f-4d20-95ef-18905112df87",
   "metadata": {},
   "outputs": [],
   "source": [
    "# Import TensorFlow\n",
    "import tensorflow as tf\n",
    "from tensorflow.keras.datasets import cifar10\n",
    "import numpy as np\n",
    "import matplotlib.pyplot as plt\n"
   ]
  },
  {
   "cell_type": "markdown",
   "id": "09ac7d77-5a0b-4146-892c-c2702c792c4c",
   "metadata": {},
   "source": [
    "### 1.2 Loading data "
   ]
  },
  {
   "cell_type": "markdown",
   "id": "9f98c7fc-6eb2-4d4b-93bf-5e7841d20e23",
   "metadata": {},
   "source": [
    "To verify that the dataset looks correct, let's plot the first 25 images from the training set and display the class name below each image."
   ]
  },
  {
   "cell_type": "code",
   "execution_count": null,
   "id": "b586755a-468f-4cac-aa59-15a87a55d572",
   "metadata": {},
   "outputs": [],
   "source": [
    "(train_images, train_labels), (test_images, test_labels) = datasets.cifar10.load_data()\n",
    "\n",
    "# Normalize pixel values to be between 0 and 1\n",
    "train_images, test_images = train_images / 255.0, test_images / 255.0"
   ]
  },
  {
   "cell_type": "markdown",
   "id": "4ad8769d-d739-496f-9636-e8cee240cdd0",
   "metadata": {},
   "source": [
    "To verify that the dataset looks correct, let's plot the first 25 images from the training set and display the class name below each image."
   ]
  },
  {
   "cell_type": "code",
   "execution_count": null,
   "id": "e92e67e0-38a8-40be-a508-1fff3a998723",
   "metadata": {},
   "outputs": [],
   "source": [
    "class_names = ['airplane', 'automobile', 'bird', 'cat', 'deer',\n",
    "               'dog', 'frog', 'horse', 'ship', 'truck']\n",
    "\n",
    "plt.figure(figsize=(8,8))\n",
    "for i in range(25):\n",
    "    plt.subplot(5,5,i+1)\n",
    "    plt.xticks([])\n",
    "    plt.yticks([])\n",
    "    plt.grid(False)\n",
    "    plt.imshow(train_images[i])\n",
    "    # The CIFAR labels happen to be arrays,\n",
    "    #which is why we need the extra index\n",
    "    plt.xlabel(class_names[train_labels[i][0]])\n",
    "plt.show()"
   ]
  },
  {
   "cell_type": "markdown",
   "id": "ef00514e-0cf0-4443-9189-7b2020ce3649",
   "metadata": {},
   "source": [
    "### 1.3 Create SOM"
   ]
  },
  {
   "cell_type": "code",
   "execution_count": null,
   "id": "1e1b66b3-9732-4e72-a40d-1b37a831a534",
   "metadata": {},
   "outputs": [],
   "source": []
  }
 ],
 "metadata": {
  "kernelspec": {
   "display_name": "Python 3 (ipykernel)",
   "language": "python",
   "name": "python3"
  },
  "language_info": {
   "codemirror_mode": {
    "name": "ipython",
    "version": 3
   },
   "file_extension": ".py",
   "mimetype": "text/x-python",
   "name": "python",
   "nbconvert_exporter": "python",
   "pygments_lexer": "ipython3",
   "version": "3.11.5"
  }
 },
 "nbformat": 4,
 "nbformat_minor": 5
}
