{
 "cells": [
  {
   "cell_type": "code",
   "execution_count": 6,
   "id": "cf634587",
   "metadata": {},
   "outputs": [],
   "source": [
    "import itertools \n",
    "\n",
    "def jaccard(labels1, labels2):\n",
    "    \"\"\"\n",
    "    Computes the Jaccard similarity between two sets of clustering labels.\n",
    "    The value returned is between 0 and 1, inclusively. A value of 1 indicates\n",
    "    perfect agreement between two clustering algorithms, whereas a value of 0\n",
    "    indicates no agreement. \n",
    "    Example:\n",
    "    labels1 = [1, 2, 2, 3]\n",
    "    labels2 = [3, 4, 4, 4]\n",
    "    print (jaccard(labels1, labels2))\n",
    "    @param labels1 iterable of cluster labels\n",
    "    @param labels2 iterable of cluster labels\n",
    "    @return the Jaccard similarity value\n",
    "    \"\"\"\n",
    "    n11 = n10 = n01 = 0\n",
    "    n = len(labels1)\n",
    "    # TODO: Throw exception if len(labels1) != len(labels2)\n",
    "    for i, j in itertools.combinations(range(n), 2):\n",
    "        comembership1 = labels1[i] == labels1[j]\n",
    "        comembership2 = labels2[i] == labels2[j]\n",
    "        if comembership1 and comembership2:\n",
    "            n11 += 1\n",
    "        elif comembership1 and not comembership2:\n",
    "            n10 += 1\n",
    "        elif not comembership1 and comembership2:\n",
    "            n01 += 1\n",
    "    return float(n11) / (n11 + n10 + n01)"
   ]
  },
  {
   "cell_type": "code",
   "execution_count": 9,
   "id": "054a890e",
   "metadata": {},
   "outputs": [
    {
     "name": "stdout",
     "output_type": "stream",
     "text": [
      "1.0\n"
     ]
    }
   ],
   "source": [
    "# sample of computing jaccard index between truth cluster indexes and the predicted cluster labels\n",
    "truthLabels = [1, 1, 1, 2]\n",
    "predictedLabels = [2, 2, 2, 1]\n",
    "print (jaccard(labels1, labels2))"
   ]
  },
  {
   "cell_type": "code",
   "execution_count": null,
   "id": "08bf9aa9",
   "metadata": {},
   "outputs": [],
   "source": []
  }
 ],
 "metadata": {
  "kernelspec": {
   "display_name": "Python 3 (ipykernel)",
   "language": "python",
   "name": "python3"
  },
  "language_info": {
   "codemirror_mode": {
    "name": "ipython",
    "version": 3
   },
   "file_extension": ".py",
   "mimetype": "text/x-python",
   "name": "python",
   "nbconvert_exporter": "python",
   "pygments_lexer": "ipython3",
   "version": "3.10.9"
  }
 },
 "nbformat": 4,
 "nbformat_minor": 5
}
