{
 "cells": [
  {
   "cell_type": "code",
   "execution_count": 1,
   "id": "76b0ab41-28d8-40ae-a2f6-4cfe73208586",
   "metadata": {},
   "outputs": [],
   "source": [
    "import tensorflow as tf\n",
    "import numpy as np\n",
    "import matplotlib.pyplot as plt\n",
    "from tensorflow.keras.datasets import cifar10"
   ]
  },
  {
   "cell_type": "code",
   "execution_count": 2,
   "id": "136dc750-1019-456e-a742-c13cc7075574",
   "metadata": {},
   "outputs": [],
   "source": [
    "(X_train, Y_train), (X_test, Y_test) = cifar10.load_data()"
   ]
  },
  {
   "cell_type": "code",
   "execution_count": 4,
   "id": "b896226e-83e5-42d0-b27e-fec287f05d12",
   "metadata": {},
   "outputs": [],
   "source": [
    "def filter_and_limit_data(X, Y, classes, limit_per_class):\n",
    "    filtered_X = []\n",
    "    filtered_Y = []\n",
    "    for class_label in classes:\n",
    "        class_indices = np.where(Y == class_label)[0][:limit_per_class]\n",
    "        filtered_X.append(X[class_indices])\n",
    "        filtered_Y.append(Y[class_indices])\n",
    "    return np.vstack(filtered_X), np.vstack(filtered_Y)\n"
   ]
  },
  {
   "cell_type": "code",
   "execution_count": 6,
   "id": "71acb910-15f7-4d0a-9d7a-0256b1d43a06",
   "metadata": {},
   "outputs": [],
   "source": [
    "classes_of_interest = [0, 2, 3]  # airplane: 0, bird: 2, cat: 3\n",
    "class_names = {0: 'airplane', 2: 'bird', 3: 'cat'}"
   ]
  },
  {
   "cell_type": "code",
   "execution_count": 8,
   "id": "16afddf2-816a-4309-8f55-0fb9e74a83b1",
   "metadata": {},
   "outputs": [],
   "source": [
    "X_train, Y_train = filter_and_limit_data(X_train, Y_train, classes_of_interest, 334)\n",
    "X_test, Y_test = filter_and_limit_data(X_test, Y_test, classes_of_interest, 334)"
   ]
  },
  {
   "cell_type": "code",
   "execution_count": 9,
   "id": "11b28bc3-6ad1-4453-a6ca-9ee33203166e",
   "metadata": {},
   "outputs": [],
   "source": [
    "  X_train, Y_train = X_train[:1000], Y_train[:1000]\n",
    "  X_test, Y_test = X_test[:1000], Y_test[:1000]"
   ]
  },
  {
   "cell_type": "code",
   "execution_count": 13,
   "id": "9faf0de8-be09-4c38-997d-38d17ce541eb",
   "metadata": {},
   "outputs": [],
   "source": [
    "X_train = X_train.astype('float32') / 255.0\n",
    "X_test = X_test.astype('float32') / 255.0"
   ]
  },
  {
   "cell_type": "code",
   "execution_count": 22,
   "id": "39e2d2bc-68cf-4072-a9cc-61cb990df70c",
   "metadata": {},
   "outputs": [
    {
     "name": "stdout",
     "output_type": "stream",
     "text": [
      "(1000, 3072)\n",
      "(1000, 3072)\n"
     ]
    }
   ],
   "source": [
    "X_train = X_train.reshape(-1, 32 * 32 * 3)\n",
    "X_test = X_test.reshape(-1, 32 * 32 * 3)\n",
    "print(X_train.shape)  # should output (1000, 3072)\n",
    "print(X_test.shape)   # should output (1000, 3072)\n",
    "\n",
    "class SOM:\n",
    "    def __init__(self, m, n, dim, learning_rate=0.5, radius=None, decay_function=None):\n",
    "        self.m = m\n",
    "        self.n = n\n",
    "        self.dim = dim\n",
    "        self.learning_rate = learning_rate\n",
    "        self.radius = radius if radius else max(m, n) / 2\n",
    "        self.decay_function = decay_function if decay_function else self._default_decay\n",
    "        self.weights = np.random.random((m, n, dim))\n",
    "        self.initial_radius = self.radius\n",
    "\n",
    "    def _default_decay(self, learning_rate, radius, i, max_iter):\n",
    "        return learning_rate * np.exp(-i / max_iter), radius * np.exp(-i / max_iter)\n",
    "\n",
    "    def _find_bmu(self, sample):\n",
    "        distances = np.linalg.norm(self.weights - sample, axis=2)\n",
    "        bmu_idx = np.unravel_index(np.argmin(distances), (self.m, self.n))\n",
    "        return bmu_idx\n",
    "\n",
    "    def _update_weights(self, sample, bmu_idx, learning_rate, radius):\n",
    "        for i in range(self.m):\n",
    "            for j in range(self.n):\n",
    "                weight = self.weights[i, j, :]\n",
    "                dist_to_bmu = np.linalg.norm(np.array([i, j]) - np.array(bmu_idx))\n",
    "                if dist_to_bmu < radius:\n",
    "                    influence = np.exp(-(dist_to_bmu**2) / (2 * (radius**2)))\n",
    "                    self.weights[i, j, :] += influence * learning_rate * (sample - weight)\n",
    "\n",
    "    def train(self, data, num_iterations):\n",
    "        data = tf.convert_to_tensor(data, dtype=tf.float32)\n",
    "        with tf.device('/GPU:0'):  # Specify GPU for training\n",
    "            for i in range(num_iterations):\n",
    "                for sample in data:\n",
    "                    bmu_idx = self._find_bmu(sample)\n",
    "                    learning_rate, radius = self.decay_function(self.learning_rate, self.initial_radius, i, num_iterations)\n",
    "                    self._update_weights(sample, bmu_idx, learning_rate, radius)\n",
    "                if i % 10 == 0:\n",
    "                    print(f\"Iteration {i}/{num_iterations} complete\")\n",
    "                    \n",
    "    def map_vects(self, data):\n",
    "        bmu_indices = np.array([self._find_bmu(sample) for sample in data])\n",
    "        return bmu_indices\n"
   ]
  },
  {
   "cell_type": "code",
   "execution_count": 23,
   "id": "caa8e8f2-3839-4586-8033-e99586997390",
   "metadata": {},
   "outputs": [],
   "source": [
    "if tf.config.list_physical_devices('GPU'):\n",
    "  X_train_gpu = tf.convert_to_tensor(X_train)\n",
    "  with tf.device('/GPU:0'):\n",
    "    X_train_gpu = tf.cast(X_train_gpu, dtype=tf.float32) / 255.0\n",
    "      "
   ]
  },
  {
   "cell_type": "code",
   "execution_count": 24,
   "id": "add92802-d514-4046-9b53-667ec44905a2",
   "metadata": {},
   "outputs": [],
   "source": [
    "som = SOM(m=21, n=20, dim=32*32*3, learning_rate=0.5, radius=13)"
   ]
  },
  {
   "cell_type": "code",
   "execution_count": null,
   "id": "0d3d0eab-12de-45af-92a2-119860670492",
   "metadata": {},
   "outputs": [
    {
     "name": "stdout",
     "output_type": "stream",
     "text": [
      "Iteration 0/100 complete\n"
     ]
    }
   ],
   "source": [
    "som.train(X_train_gpu if tf.config.list_physical_devices('GPU') else X_train, num_iterations=100)\n",
    "print(\"job done\")"
   ]
  },
  {
   "cell_type": "code",
   "execution_count": null,
   "id": "92b4c8a3-3a4a-4057-b434-44d8b7a1c0aa",
   "metadata": {},
   "outputs": [],
   "source": [
    "train_bmu_indices = som.map_vects(X_train)\n",
    "test_bmu_indices = som.map_vects(X_test)\n",
    "\n",
    "print(\"Training data mapped to BMU indices\")\n",
    "print(train_bmu_indices)\n",
    "print(\"Testing data mapped to BMU indices\")\n",
    "print(test_bmu_indices)\n",
    "\n",
    "def plot_som_clusters(som, data, title):\n",
    "    plt.figure(figsize=(10, 10))\n",
    "    for x in range(som.m):\n",
    "        for y in range(som.n):\n",
    "            plt.text(x, y, '', ha='center', va='center',\n",
    "                     bbox=dict(facecolor='white', alpha=0.5, lw=0))\n",
    "    \n",
    "    bmu_indices = som.map_vects(data)\n",
    "    unique_bmus = np.unique(bmu_indices, axis=0)\n",
    "    \n",
    "    for bmu in unique_bmus:\n",
    "        points = data[(bmu_indices == bmu).all(axis=1)]\n",
    "        plt.text(bmu[1], bmu[0], str(len(points)),\n",
    "                 ha='center', va='center',\n",
    "                 bbox=dict(facecolor='red', alpha=0.5, lw=0))\n",
    "    \n",
    "    plt.title(title)\n",
    "    plt.xlim(-0.5, som.n-0.5)\n",
    "    plt.ylim(-0.5, som.m-0.5)\n",
    "    plt.gca().invert_yaxis()\n",
    "    plt.show()\n",
    "\n",
    "plot_som_clusters(som, X_train, \"SOM Clusters for Training Data\")\n",
    "plot_som_clusters(som, X_test, \"SOM Clusters for Testing Data\")\n",
    "\n",
    "def calculate_accuracy(labels, bmu_indices):\n",
    "    cluster_labels = {}\n",
    "    for idx, bmu in enumerate(bmu_indices):\n",
    "        bmu_tuple = tuple(bmu)\n",
    "        if bmu_tuple not in cluster_labels:\n",
    "            cluster_labels[bmu_tuple] = []\n",
    "        cluster_labels[bmu_tuple].append(labels[idx])\n",
    "    \n",
    "    correct_predictions = 0\n",
    "    total_predictions = len(labels)\n",
    "    \n",
    "    for bmu, label_list in cluster_labels.items():\n",
    "        most_common_label = np.bincount(np.array(label_list).flatten()).argmax()\n",
    "        correct_predictions += (np.array(label_list).flatten() == most_common_label).sum()\n",
    "    \n",
    "    accuracy = correct_predictions / total_predictions\n",
    "    return accuracy\n",
    "\n",
    "train_accuracy = calculate_accuracy(Y_train, train_bmu_indices)\n",
    "test_accuracy = calculate_accuracy(Y_test, test_bmu_indices)\n",
    "\n",
    "print(f\"Training data accuracy: {train_accuracy}\")\n",
    "print(f\"Testing data accuracy: {test_accuracy}\")\n",
    "\n",
    "\n"
   ]
  }
 ],
 "metadata": {
  "kernelspec": {
   "display_name": "Python 3 (ipykernel)",
   "language": "python",
   "name": "python3"
  },
  "language_info": {
   "codemirror_mode": {
    "name": "ipython",
    "version": 3
   },
   "file_extension": ".py",
   "mimetype": "text/x-python",
   "name": "python",
   "nbconvert_exporter": "python",
   "pygments_lexer": "ipython3",
   "version": "3.11.9"
  }
 },
 "nbformat": 4,
 "nbformat_minor": 5
}
